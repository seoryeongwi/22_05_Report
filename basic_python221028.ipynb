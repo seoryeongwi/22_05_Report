{
  "nbformat": 4,
  "nbformat_minor": 0,
  "metadata": {
    "colab": {
      "provenance": [],
      "authorship_tag": "ABX9TyNgbPbgnHIMZhRm4SBWJ+XG",
      "include_colab_link": true
    },
    "kernelspec": {
      "name": "python3",
      "display_name": "Python 3"
    },
    "language_info": {
      "name": "python"
    }
  },
  "cells": [
    {
      "cell_type": "markdown",
      "metadata": {
        "id": "view-in-github",
        "colab_type": "text"
      },
      "source": [
        "<a href=\"https://colab.research.google.com/github/seoryeongwi/22_05_Report/blob/main/basic_python221028.ipynb\" target=\"_parent\"><img src=\"https://colab.research.google.com/assets/colab-badge.svg\" alt=\"Open In Colab\"/></a>"
      ]
    },
    {
      "cell_type": "code",
      "execution_count": 2,
      "metadata": {
        "colab": {
          "base_uri": "https://localhost:8080/"
        },
        "id": "zbn5BWynaRC7",
        "outputId": "f51da221-a078-4e7c-cb4b-0f73d709f646"
      },
      "outputs": [
        {
          "output_type": "stream",
          "name": "stdout",
          "text": [
            "x의 값은? :9\n",
            "y의 값은? :6\n",
            "두 수의 합은: 15\n",
            "두 수의 차는: 3\n",
            "두 수의 곱은: 54\n",
            "두 수의 평균은: 7.5\n",
            "큰 수는? 9\n",
            "작은 수는? 6\n"
          ]
        }
      ],
      "source": [
        "x=int(input(\"x의 값은? :\"))\n",
        "y=int(input(\"y의 값은? :\"))\n",
        "\n",
        "print(\"두 수의 합은:\",x+y)\n",
        "print(\"두 수의 차는:\",x-y)\n",
        "print(\"두 수의 곱은:\",x*y)\n",
        "print(\"두 수의 평균은:\",(x+y)/2)\n",
        "print(\"큰 수는?\", max(x,y))\n",
        "print(\"작은 수는?\",min(x,y))\n"
      ]
    },
    {
      "cell_type": "markdown",
      "source": [
        "2.원기둥의 부피를 계산하는 프로그램을 작성해보자. 원기둥의 부피는 다음과 같이 계산한다."
      ],
      "metadata": {
        "id": "XP3naSyDeDCg"
      }
    },
    {
      "cell_type": "code",
      "source": [
        "r = float(input(\"r값은?:\"))\n",
        "h = float(input(\"h값은?:\"))\n",
        "\n",
        "vol = 3.141592 * r**2 * h\n",
        "print(\"원기둥의 부피:\",vol)"
      ],
      "metadata": {
        "colab": {
          "base_uri": "https://localhost:8080/"
        },
        "id": "4BMp5Alscq2o",
        "outputId": "f69489c5-edb3-4649-d752-fa4d0c419e5b"
      },
      "execution_count": 3,
      "outputs": [
        {
          "output_type": "stream",
          "name": "stdout",
          "text": [
            "r값은?:10\n",
            "h값은?:10\n",
            "원기둥의 부피: 3141.592\n"
          ]
        }
      ]
    }
  ]
}