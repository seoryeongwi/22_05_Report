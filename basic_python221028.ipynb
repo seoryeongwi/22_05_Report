{
  "nbformat": 4,
  "nbformat_minor": 0,
  "metadata": {
    "colab": {
      "provenance": [],
      "authorship_tag": "ABX9TyPj7C4IeI1LSb/2V9Jt6zOq",
      "include_colab_link": true
    },
    "kernelspec": {
      "name": "python3",
      "display_name": "Python 3"
    },
    "language_info": {
      "name": "python"
    }
  },
  "cells": [
    {
      "cell_type": "markdown",
      "metadata": {
        "id": "view-in-github",
        "colab_type": "text"
      },
      "source": [
        "<a href=\"https://colab.research.google.com/github/seoryeongwi/22_05_Report/blob/main/basic_python221028.ipynb\" target=\"_parent\"><img src=\"https://colab.research.google.com/assets/colab-badge.svg\" alt=\"Open In Colab\"/></a>"
      ]
    },
    {
      "cell_type": "code",
      "execution_count": null,
      "metadata": {
        "colab": {
          "base_uri": "https://localhost:8080/"
        },
        "id": "zbn5BWynaRC7",
        "outputId": "f51da221-a078-4e7c-cb4b-0f73d709f646"
      },
      "outputs": [
        {
          "output_type": "stream",
          "name": "stdout",
          "text": [
            "x의 값은? :9\n",
            "y의 값은? :6\n",
            "두 수의 합은: 15\n",
            "두 수의 차는: 3\n",
            "두 수의 곱은: 54\n",
            "두 수의 평균은: 7.5\n",
            "큰 수는? 9\n",
            "작은 수는? 6\n"
          ]
        }
      ],
      "source": [
        "x=int(input(\"x의 값은? :\"))\n",
        "y=int(input(\"y의 값은? :\"))\n",
        "\n",
        "print(\"두 수의 합은:\",x+y)\n",
        "print(\"두 수의 차는:\",x-y)\n",
        "print(\"두 수의 곱은:\",x*y)\n",
        "print(\"두 수의 평균은:\",(x+y)/2)\n",
        "print(\"큰 수는?\", max(x,y))\n",
        "print(\"작은 수는?\",min(x,y))\n"
      ]
    },
    {
      "cell_type": "markdown",
      "source": [
        "2.원기둥의 부피를 계산하는 프로그램을 작성해보자. 원기둥의 부피는 다음과 같이 계산한다."
      ],
      "metadata": {
        "id": "XP3naSyDeDCg"
      }
    },
    {
      "cell_type": "code",
      "source": [
        "r = float(input(\"r값은?:\"))\n",
        "h = float(input(\"h값은?:\"))\n",
        "\n",
        "vol = 3.141592 * r**2 * h\n",
        "print(\"원기둥의 부피:\",vol)"
      ],
      "metadata": {
        "colab": {
          "base_uri": "https://localhost:8080/"
        },
        "id": "4BMp5Alscq2o",
        "outputId": "f69489c5-edb3-4649-d752-fa4d0c419e5b"
      },
      "execution_count": null,
      "outputs": [
        {
          "output_type": "stream",
          "name": "stdout",
          "text": [
            "r값은?:10\n",
            "h값은?:10\n",
            "원기둥의 부피: 3141.592\n"
          ]
        }
      ]
    },
    {
      "cell_type": "markdown",
      "source": [
        "3. 사용자로부터 정수를 받아 정수의 자리수의 합을 계산하는 프로그램을 작성하여 보자. "
      ],
      "metadata": {
        "id": "_0p2x3R2evjf"
      }
    },
    {
      "cell_type": "code",
      "source": [
        "number = int(input(\"정수를 입력하시오: \"))\n",
        "\n",
        "sum = 0\n",
        "sum = sum + number % 10\n",
        "number = number//10\n",
        "\n",
        "sum =sum * number %10\n",
        "number = number // 10\n",
        "\n",
        "sum =sum + number% 10\n",
        "number =number //10\n",
        "\n",
        "sum = sum + number % 10\n",
        "number = number // 10\n",
        "\n",
        "print(\"자리수의 합은 :\", str(sum))\n",
        "\n"
      ],
      "metadata": {
        "colab": {
          "base_uri": "https://localhost:8080/"
        },
        "id": "3KoEfNHLe4QH",
        "outputId": "7a44cefa-cde6-49b8-d3ef-9ab8eeaf99b1"
      },
      "execution_count": null,
      "outputs": [
        {
          "output_type": "stream",
          "name": "stdout",
          "text": [
            "정수를 입력하시오: 1234\n",
            "자리수의 합은 : 5\n"
          ]
        }
      ]
    },
    {
      "cell_type": "markdown",
      "source": [
        "4.사용자로부터 두 점의 좌표를 입력받아서 주 덤사이의 거리를 계산하는 프로그램을 작성해보자. 스크립트 모드로 작성하라.  거리는 다음 식으로 계산한다.                                                                                                                                                                                                                                                                                                                                                                                                                                                                                                                                                                                                                                                                                                                                                                                                                                                                                                                                                                                                                                                                                                                                                               "
      ],
      "metadata": {
        "id": "X6W-4fIzhj72"
      }
    },
    {
      "cell_type": "code",
      "source": [
        "x1= int(input(\"x1값을 입력하시오.:\"))\n",
        "y1= int(input(\"x2값을 입력하시오.:\"))\n",
        "x2= int(input(\"y1값을 입력하시오.:\"))\n",
        "y2= int(input(\"y2값을 입력하시오.:\"))\n",
        "dist= ((x2-x1)**2 +(y2 -y1)**2)**0.5\n",
        "print(\"두점의 사이의 거리는?\", dist. \"입니다.\")"
      ],
      "metadata": {
        "colab": {
          "base_uri": "https://localhost:8080/",
          "height": 137
        },
        "id": "ICvoQNFpiBwG",
        "outputId": "26c96f4b-b021-4daf-ee71-e92f2911ce83"
      },
      "execution_count": null,
      "outputs": [
        {
          "output_type": "error",
          "ename": "SyntaxError",
          "evalue": "ignored",
          "traceback": [
            "\u001b[0;36m  File \u001b[0;32m\"<ipython-input-5-123bd87a846b>\"\u001b[0;36m, line \u001b[0;32m6\u001b[0m\n\u001b[0;31m    print(\"두점의 사이의 거리는?\", dist. \"입니다.\")\u001b[0m\n\u001b[0m                                     ^\u001b[0m\n\u001b[0;31mSyntaxError\u001b[0m\u001b[0;31m:\u001b[0m invalid syntax\n"
          ]
        }
      ]
    },
    {
      "cell_type": "markdown",
      "source": [
        "5.4번문제에서 계산한 거리가 맞는지, 터틀그래프를 이용해서 계산해보자."
      ],
      "metadata": {
        "id": "4k007tGbnj-o"
      }
    },
    {
      "cell_type": "code",
      "source": [
        "import turtle\n",
        "\n",
        "t=turtle.Turtle()\n",
        "t.shape(\"turtle\")\n",
        "t.left(45)\n",
        "t.forward(141)\n",
        "t.setheading(0)\n",
        "t.goto(0,0)\n",
        "t.fd(100)\n",
        "t.left(90)\n",
        "t.fd(100)"
      ],
      "metadata": {
        "id": "zzPlnOeCnrLe"
      },
      "execution_count": null,
      "outputs": []
    }
  ]
}