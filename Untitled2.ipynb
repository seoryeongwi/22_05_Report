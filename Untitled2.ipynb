{
  "nbformat": 4,
  "nbformat_minor": 0,
  "metadata": {
    "colab": {
      "provenance": [],
      "authorship_tag": "ABX9TyMJIlJJCLFGeB0TO3yfZC4Z",
      "include_colab_link": true
    },
    "kernelspec": {
      "name": "python3",
      "display_name": "Python 3"
    },
    "language_info": {
      "name": "python"
    }
  },
  "cells": [
    {
      "cell_type": "markdown",
      "metadata": {
        "id": "view-in-github",
        "colab_type": "text"
      },
      "source": [
        "<a href=\"https://colab.research.google.com/github/seoryeongwi/22_05_Report/blob/main/Untitled2.ipynb\" target=\"_parent\"><img src=\"https://colab.research.google.com/assets/colab-badge.svg\" alt=\"Open In Colab\"/></a>"
      ]
    },
    {
      "cell_type": "code",
      "execution_count": 1,
      "metadata": {
        "colab": {
          "base_uri": "https://localhost:8080/"
        },
        "id": "TIZ75ViJTVb4",
        "outputId": "d71e9705-5421-4f74-9a4a-1d374daf766f"
      },
      "outputs": [
        {
          "output_type": "stream",
          "name": "stdout",
          "text": [
            "3 -1 12 1.0\n"
          ]
        }
      ],
      "source": [
        "print(1+2,2-3,3*4,4/4)"
      ]
    },
    {
      "cell_type": "code",
      "source": [
        "print(\"*\"*40)\n",
        "print(\"* 제1조 1항 대한민국은 민주공화국이다.*\")\n",
        "print(\"*\"*40)"
      ],
      "metadata": {
        "colab": {
          "base_uri": "https://localhost:8080/"
        },
        "id": "zXvHJmYcUsEv",
        "outputId": "2a7ba364-e5ec-4f8d-96f8-dd60ab70057f"
      },
      "execution_count": 2,
      "outputs": [
        {
          "output_type": "stream",
          "name": "stdout",
          "text": [
            "****************************************\n",
            "* 제1조 1항 대한민국은 민주공화국이다.*\n",
            "****************************************\n"
          ]
        }
      ]
    },
    {
      "cell_type": "code",
      "source": [
        "name = input(\"이름을 입력하시오.: \")\n",
        "age = input(\"나이를 입력하시오.: \")\n",
        "addr = input(\"주소를 입력하시오.: \")\n",
        "print(name)\n",
        "print(age)\n",
        "print(addr)\n",
        "print(name, age, addr)"
      ],
      "metadata": {
        "colab": {
          "base_uri": "https://localhost:8080/"
        },
        "id": "LonTLwa9WAed",
        "outputId": "5d312baa-5f1f-4dd5-87e0-d3c9db77f1fe"
      },
      "execution_count": 3,
      "outputs": [
        {
          "output_type": "stream",
          "name": "stdout",
          "text": [
            "이름을 입력하시오.: 위서령\n",
            "나이를 입력하시오.: 20\n",
            "주소를 입력하시오.: 군산시 수송동로 105\n",
            "위서령\n",
            "20\n",
            "군산시 수송동로 105\n",
            "위서령 20 군산시 수송동로 105\n"
          ]
        }
      ]
    },
    {
      "cell_type": "code",
      "source": [
        "n1 = input(\"첫번째 정수를 입력하시오. :\")\n",
        "n2 = input(\"두번째 정수를 입력하시오. :\")\n",
        "print(\"두 합의 값은\",n1+n2, \"입니다.\")"
      ],
      "metadata": {
        "colab": {
          "base_uri": "https://localhost:8080/"
        },
        "id": "5qH0I6HAZq7Y",
        "outputId": "f629d3f2-de52-457d-f6bc-88e4ba6d4fd7"
      },
      "execution_count": 4,
      "outputs": [
        {
          "output_type": "stream",
          "name": "stdout",
          "text": [
            "첫번째 정수를 입력하시오. :100\n",
            "두번째 정수를 입력하시오. :100\n",
            "두 합의 값은 100100 입니다.\n"
          ]
        }
      ]
    },
    {
      "cell_type": "code",
      "source": [
        "n1 = int(input(\"첫번째 정수를 입력하시오. :\"))\n",
        "n2 = int(input(\"두번째 정수를 입력하시오. :\"))\n",
        "print(\"두 합의 값은\",n1+n2, \"입니다.\")"
      ],
      "metadata": {
        "colab": {
          "base_uri": "https://localhost:8080/"
        },
        "id": "zOJGBX01agUx",
        "outputId": "ea416605-60ca-4c76-acd0-7ae339256ab5"
      },
      "execution_count": 5,
      "outputs": [
        {
          "output_type": "stream",
          "name": "stdout",
          "text": [
            "첫번째 정수를 입력하시오. :100\n",
            "두번째 정수를 입력하시오. :100\n",
            "두 합의 값은 200 입니다.\n"
          ]
        }
      ]
    },
    {
      "cell_type": "code",
      "source": [],
      "metadata": {
        "id": "WaJ47tcUbXdw"
      },
      "execution_count": null,
      "outputs": []
    }
  ]
}